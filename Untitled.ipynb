{
 "cells": [
  {
   "cell_type": "code",
   "execution_count": 1,
   "metadata": {},
   "outputs": [],
   "source": [
    "import pandas as pd\n",
    "import numpy as np\n",
    "from scipy import stats\n",
    "import matplotlib.pyplot as plt\n",
    "import sys\n"
   ]
  },
  {
   "cell_type": "code",
   "execution_count": 23,
   "metadata": {},
   "outputs": [],
   "source": [
    "df = pd.read_csv('data.csv')"
   ]
  },
  {
   "cell_type": "code",
   "execution_count": 24,
   "metadata": {},
   "outputs": [
    {
     "name": "stdout",
     "output_type": "stream",
     "text": [
      "     Duration  Average_Pulse  Max_Pulse  Calorie_Burnage  Hours_Work  \\\n",
      "0          60            110        130              409         0.0   \n",
      "1          60            117        145              479         0.0   \n",
      "2          60            103        135              340         8.0   \n",
      "3          45            109        175              282         8.0   \n",
      "4          45            117        148              406         0.0   \n",
      "..        ...            ...        ...              ...         ...   \n",
      "158        60            105        140              290         7.0   \n",
      "159        60            110        145              300         7.0   \n",
      "160        60            115        145              310         8.0   \n",
      "161        75            120        150              320         0.0   \n",
      "162        75            125        150              330         8.0   \n",
      "\n",
      "     Hours_Sleep  \n",
      "0            8.0  \n",
      "1            8.0  \n",
      "2            7.5  \n",
      "3            8.0  \n",
      "4            6.5  \n",
      "..           ...  \n",
      "158          8.0  \n",
      "159          8.0  \n",
      "160          8.0  \n",
      "161          8.0  \n",
      "162          8.0  \n",
      "\n",
      "[163 rows x 6 columns]\n"
     ]
    }
   ],
   "source": [
    "print(df)"
   ]
  },
  {
   "cell_type": "code",
   "execution_count": 25,
   "metadata": {},
   "outputs": [],
   "source": [
    "x = df['Average_Pulse']\n",
    "y = df['Calorie_Burnage']"
   ]
  },
  {
   "cell_type": "code",
   "execution_count": 26,
   "metadata": {},
   "outputs": [
    {
     "data": {
      "image/png": "[encoded data removed]",
      "text/plain": [
       "<Figure size 432x288 with 1 Axes>"
      ]
     },
     "metadata": {
      "needs_background": "light"
     },
     "output_type": "display_data"
    }
   ],
   "source": [
    "plt.scatter(x,y)\n",
    "plt.show()"
   ]
  },
  {
   "cell_type": "code",
   "execution_count": 27,
   "metadata": {},
   "outputs": [
    {
     "name": "stdout",
     "output_type": "stream",
     "text": [
      "0    110\n",
      "1    117\n",
      "2    103\n",
      "3    109\n",
      "4    117\n",
      "Name: Average_Pulse, dtype: int64\n"
     ]
    }
   ],
   "source": [
    "print(x.head())"
   ]
  },
  {
   "cell_type": "code",
   "execution_count": 28,
   "metadata": {},
   "outputs": [
    {
     "data": {
      "image/png": "[encoded data removed]",
      "text/plain": [
       "<Figure size 432x288 with 1 Axes>"
      ]
     },
     "metadata": {
      "needs_background": "light"
     },
     "output_type": "display_data"
    }
   ],
   "source": [
    "from scipy import stats\n",
    "slope, intercept, r ,p, std_err = stats.linregress(x,y)\n",
    "def myfunc(x):\n",
    "    return slope *x + intercept\n",
    "mymodel = list(map(myfunc,x))\n",
    "plt.scatter(x,y)\n",
    "plt.plot(x,mymodel)\n",
    "plt.show()"
   ]
  },
  {
   "cell_type": "code",
   "execution_count": 29,
   "metadata": {},
   "outputs": [
    {
     "data": {
      "text/plain": [
       "348.1844806803913"
      ]
     },
     "execution_count": 29,
     "metadata": {},
     "output_type": "execute_result"
    }
   ],
   "source": [
    "myfunc(4)"
   ]
  },
  {
   "cell_type": "code",
   "execution_count": 30,
   "metadata": {},
   "outputs": [
    {
     "name": "stdout",
     "output_type": "stream",
     "text": [
      "346.8662267857687\n"
     ]
    }
   ],
   "source": [
    "print(intercept)"
   ]
  },
  {
   "cell_type": "code",
   "execution_count": 31,
   "metadata": {},
   "outputs": [
    {
     "name": "stdout",
     "output_type": "stream",
     "text": [
      "0.8237776479944345\n"
     ]
    }
   ],
   "source": [
    "print(p)"
   ]
  },
  {
   "cell_type": "code",
   "execution_count": 32,
   "metadata": {},
   "outputs": [
    {
     "name": "stdout",
     "output_type": "stream",
     "text": [
      "   col1  col2  col3\n",
      "0     1     4     7\n",
      "1     2     5     8\n",
      "2     3     6    12\n",
      "3     4     9     1\n",
      "4     7     5    11\n"
     ]
    }
   ],
   "source": [
    "import pandas as pd\n",
    "\n",
    "d = {'col1': [1, 2, 3, 4, 7], 'col2': [4, 5, 6, 9, 5], 'col3': [7, 8, 12, 1, 11]}\n",
    "\n",
    "df = pd.DataFrame(data=d)\n",
    "\n",
    "print(df)\n"
   ]
  },
  {
   "cell_type": "code",
   "execution_count": 38,
   "metadata": {},
   "outputs": [
    {
     "name": "stdout",
     "output_type": "stream",
     "text": [
      "(5, 3)\n"
     ]
    }
   ],
   "source": [
    "count_column = df.shape\n",
    "print(count_column)"
   ]
  },
  {
   "cell_type": "code",
   "execution_count": 40,
   "metadata": {},
   "outputs": [],
   "source": [
    "df = pd.read_csv('data.csv')"
   ]
  },
  {
   "cell_type": "code",
   "execution_count": 41,
   "metadata": {},
   "outputs": [
    {
     "data": {
      "text/html": [
       "<div>\n",
       "<style scoped>\n",
       "    .dataframe tbody tr th:only-of-type {\n",
       "        vertical-align: middle;\n",
       "    }\n",
       "\n",
       "    .dataframe tbody tr th {\n",
       "        vertical-align: top;\n",
       "    }\n",
       "\n",
       "    .dataframe thead th {\n",
       "        text-align: right;\n",
       "    }\n",
       "</style>\n",
       "<table border=\"1\" class=\"dataframe\">\n",
       "  <thead>\n",
       "    <tr style=\"text-align: right;\">\n",
       "      <th></th>\n",
       "      <th>Duration</th>\n",
       "      <th>Average_Pulse</th>\n",
       "      <th>Max_Pulse</th>\n",
       "      <th>Calorie_Burnage</th>\n",
       "      <th>Hours_Work</th>\n",
       "      <th>Hours_Sleep</th>\n",
       "    </tr>\n",
       "  </thead>\n",
       "  <tbody>\n",
       "    <tr>\n",
       "      <th>0</th>\n",
       "      <td>60</td>\n",
       "      <td>110</td>\n",
       "      <td>130</td>\n",
       "      <td>409</td>\n",
       "      <td>0.0</td>\n",
       "      <td>8.0</td>\n",
       "    </tr>\n",
       "    <tr>\n",
       "      <th>1</th>\n",
       "      <td>60</td>\n",
       "      <td>117</td>\n",
       "      <td>145</td>\n",
       "      <td>479</td>\n",
       "      <td>0.0</td>\n",
       "      <td>8.0</td>\n",
       "    </tr>\n",
       "    <tr>\n",
       "      <th>2</th>\n",
       "      <td>60</td>\n",
       "      <td>103</td>\n",
       "      <td>135</td>\n",
       "      <td>340</td>\n",
       "      <td>8.0</td>\n",
       "      <td>7.5</td>\n",
       "    </tr>\n",
       "    <tr>\n",
       "      <th>3</th>\n",
       "      <td>45</td>\n",
       "      <td>109</td>\n",
       "      <td>175</td>\n",
       "      <td>282</td>\n",
       "      <td>8.0</td>\n",
       "      <td>8.0</td>\n",
       "    </tr>\n",
       "    <tr>\n",
       "      <th>4</th>\n",
       "      <td>45</td>\n",
       "      <td>117</td>\n",
       "      <td>148</td>\n",
       "      <td>406</td>\n",
       "      <td>0.0</td>\n",
       "      <td>6.5</td>\n",
       "    </tr>\n",
       "  </tbody>\n",
       "</table>\n",
       "</div>"
      ],
      "text/plain": [
       "   Duration  Average_Pulse  Max_Pulse  Calorie_Burnage  Hours_Work  \\\n",
       "0        60            110        130              409         0.0   \n",
       "1        60            117        145              479         0.0   \n",
       "2        60            103        135              340         8.0   \n",
       "3        45            109        175              282         8.0   \n",
       "4        45            117        148              406         0.0   \n",
       "\n",
       "   Hours_Sleep  \n",
       "0          8.0  \n",
       "1          8.0  \n",
       "2          7.5  \n",
       "3          8.0  \n",
       "4          6.5  "
      ]
     },
     "execution_count": 41,
     "metadata": {},
     "output_type": "execute_result"
    }
   ],
   "source": [
    "df.head()"
   ]
  },
  {
   "cell_type": "code",
   "execution_count": 43,
   "metadata": {},
   "outputs": [
    {
     "name": "stdout",
     "output_type": "stream",
     "text": [
      "159\n"
     ]
    }
   ],
   "source": [
    "Max_Average_Pulse = max(df['Average_Pulse'])\n",
    "print(Max_Average_Pulse)"
   ]
  },
  {
   "cell_type": "code",
   "execution_count": 44,
   "metadata": {},
   "outputs": [
    {
     "name": "stdout",
     "output_type": "stream",
     "text": [
      "107.7239263803681\n"
     ]
    }
   ],
   "source": [
    "Mean_Average_Pulse = np.mean(df['Average_Pulse'])\n",
    "print(Mean_Average_Pulse)"
   ]
  },
  {
   "cell_type": "code",
   "execution_count": 45,
   "metadata": {},
   "outputs": [
    {
     "name": "stdout",
     "output_type": "stream",
     "text": [
      "     Duration  Average_Pulse  Max_Pulse  Calorie_Burnage  Hours_Work  \\\n",
      "0          60            110        130              409         0.0   \n",
      "1          60            117        145              479         0.0   \n",
      "2          60            103        135              340         8.0   \n",
      "3          45            109        175              282         8.0   \n",
      "4          45            117        148              406         0.0   \n",
      "..        ...            ...        ...              ...         ...   \n",
      "158        60            105        140              290         7.0   \n",
      "159        60            110        145              300         7.0   \n",
      "160        60            115        145              310         8.0   \n",
      "161        75            120        150              320         0.0   \n",
      "162        75            125        150              330         8.0   \n",
      "\n",
      "     Hours_Sleep  \n",
      "0            8.0  \n",
      "1            8.0  \n",
      "2            7.5  \n",
      "3            8.0  \n",
      "4            6.5  \n",
      "..           ...  \n",
      "158          8.0  \n",
      "159          8.0  \n",
      "160          8.0  \n",
      "161          8.0  \n",
      "162          8.0  \n",
      "\n",
      "[163 rows x 6 columns]\n"
     ]
    }
   ],
   "source": [
    "df.dropna(axis = 0,inplace = True)\n",
    "print(df)"
   ]
  },
  {
   "cell_type": "code",
   "execution_count": 47,
   "metadata": {},
   "outputs": [
    {
     "name": "stdout",
     "output_type": "stream",
     "text": [
      "<class 'pandas.core.frame.DataFrame'>\n",
      "Int64Index: 163 entries, 0 to 162\n",
      "Data columns (total 6 columns):\n",
      " #   Column           Non-Null Count  Dtype  \n",
      "---  ------           --------------  -----  \n",
      " 0   Duration         163 non-null    int64  \n",
      " 1   Average_Pulse    163 non-null    int64  \n",
      " 2   Max_Pulse        163 non-null    int64  \n",
      " 3   Calorie_Burnage  163 non-null    int64  \n",
      " 4   Hours_Work       163 non-null    float64\n",
      " 5   Hours_Sleep      163 non-null    float64\n",
      "dtypes: float64(2), int64(4)\n",
      "memory usage: 8.9 KB\n",
      "None\n"
     ]
    }
   ],
   "source": [
    "print(df.info())"
   ]
  },
  {
   "cell_type": "code",
   "execution_count": 48,
   "metadata": {},
   "outputs": [
    {
     "name": "stdout",
     "output_type": "stream",
     "text": [
      "         Duration  Average_Pulse   Max_Pulse  Calorie_Burnage  Hours_Work  \\\n",
      "count  163.000000     163.000000  163.000000       163.000000  163.000000   \n",
      "mean    64.263804     107.723926  134.226994       382.368098    4.386503   \n",
      "std     42.994520      14.625062   16.403967       274.227106    3.923772   \n",
      "min     15.000000      80.000000  100.000000        50.000000    0.000000   \n",
      "25%     45.000000     100.000000  124.000000       256.500000    0.000000   \n",
      "50%     60.000000     105.000000  131.000000       320.000000    5.000000   \n",
      "75%     60.000000     111.000000  141.000000       388.500000    8.000000   \n",
      "max    300.000000     159.000000  184.000000      1860.000000   11.000000   \n",
      "\n",
      "       Hours_Sleep  \n",
      "count   163.000000  \n",
      "mean      7.680982  \n",
      "std       0.663934  \n",
      "min       5.000000  \n",
      "25%       7.500000  \n",
      "50%       8.000000  \n",
      "75%       8.000000  \n",
      "max      12.000000  \n"
     ]
    }
   ],
   "source": [
    "print(df.describe())"
   ]
  },
  {
   "cell_type": "code",
   "execution_count": 52,
   "metadata": {},
   "outputs": [
    {
     "data": {
      "image/png": "[encoded data removed]",
      "text/plain": [
       "<Figure size 432x288 with 1 Axes>"
      ]
     },
     "metadata": {
      "needs_background": "light"
     },
     "output_type": "display_data"
    }
   ],
   "source": [
    "plt.scatter(x,y)\n",
    "plt.show()\n"
   ]
  },
  {
   "cell_type": "code",
   "execution_count": 54,
   "metadata": {},
   "outputs": [
    {
     "name": "stdout",
     "output_type": "stream",
     "text": [
      "[3.29563474e-01 3.46866227e+02]\n"
     ]
    }
   ],
   "source": [
    "import numpy as np\n",
    "slope_intercept = np.polyfit(x,y,1)\n",
    "print(slope_intercept)"
   ]
  },
  {
   "cell_type": "code",
   "execution_count": 55,
   "metadata": {},
   "outputs": [
    {
     "name": "stdout",
     "output_type": "stream",
     "text": [
      "387.40253404541465\n"
     ]
    }
   ],
   "source": [
    "def my_function(x):\n",
    "    return  slope*x + intercept\n",
    "print(my_function(123))"
   ]
  },
  {
   "cell_type": "code",
   "execution_count": 56,
   "metadata": {},
   "outputs": [
    {
     "data": {
      "text/html": [
       "<div>\n",
       "<style scoped>\n",
       "    .dataframe tbody tr th:only-of-type {\n",
       "        vertical-align: middle;\n",
       "    }\n",
       "\n",
       "    .dataframe tbody tr th {\n",
       "        vertical-align: top;\n",
       "    }\n",
       "\n",
       "    .dataframe thead th {\n",
       "        text-align: right;\n",
       "    }\n",
       "</style>\n",
       "<table border=\"1\" class=\"dataframe\">\n",
       "  <thead>\n",
       "    <tr style=\"text-align: right;\">\n",
       "      <th></th>\n",
       "      <th>Duration</th>\n",
       "      <th>Average_Pulse</th>\n",
       "      <th>Max_Pulse</th>\n",
       "      <th>Calorie_Burnage</th>\n",
       "      <th>Hours_Work</th>\n",
       "      <th>Hours_Sleep</th>\n",
       "    </tr>\n",
       "  </thead>\n",
       "  <tbody>\n",
       "    <tr>\n",
       "      <th>count</th>\n",
       "      <td>163.000000</td>\n",
       "      <td>163.000000</td>\n",
       "      <td>163.000000</td>\n",
       "      <td>163.000000</td>\n",
       "      <td>163.000000</td>\n",
       "      <td>163.000000</td>\n",
       "    </tr>\n",
       "    <tr>\n",
       "      <th>mean</th>\n",
       "      <td>64.263804</td>\n",
       "      <td>107.723926</td>\n",
       "      <td>134.226994</td>\n",
       "      <td>382.368098</td>\n",
       "      <td>4.386503</td>\n",
       "      <td>7.680982</td>\n",
       "    </tr>\n",
       "    <tr>\n",
       "      <th>std</th>\n",
       "      <td>42.994520</td>\n",
       "      <td>14.625062</td>\n",
       "      <td>16.403967</td>\n",
       "      <td>274.227106</td>\n",
       "      <td>3.923772</td>\n",
       "      <td>0.663934</td>\n",
       "    </tr>\n",
       "    <tr>\n",
       "      <th>min</th>\n",
       "      <td>15.000000</td>\n",
       "      <td>80.000000</td>\n",
       "      <td>100.000000</td>\n",
       "      <td>50.000000</td>\n",
       "      <td>0.000000</td>\n",
       "      <td>5.000000</td>\n",
       "    </tr>\n",
       "    <tr>\n",
       "      <th>25%</th>\n",
       "      <td>45.000000</td>\n",
       "      <td>100.000000</td>\n",
       "      <td>124.000000</td>\n",
       "      <td>256.500000</td>\n",
       "      <td>0.000000</td>\n",
       "      <td>7.500000</td>\n",
       "    </tr>\n",
       "    <tr>\n",
       "      <th>50%</th>\n",
       "      <td>60.000000</td>\n",
       "      <td>105.000000</td>\n",
       "      <td>131.000000</td>\n",
       "      <td>320.000000</td>\n",
       "      <td>5.000000</td>\n",
       "      <td>8.000000</td>\n",
       "    </tr>\n",
       "    <tr>\n",
       "      <th>75%</th>\n",
       "      <td>60.000000</td>\n",
       "      <td>111.000000</td>\n",
       "      <td>141.000000</td>\n",
       "      <td>388.500000</td>\n",
       "      <td>8.000000</td>\n",
       "      <td>8.000000</td>\n",
       "    </tr>\n",
       "    <tr>\n",
       "      <th>max</th>\n",
       "      <td>300.000000</td>\n",
       "      <td>159.000000</td>\n",
       "      <td>184.000000</td>\n",
       "      <td>1860.000000</td>\n",
       "      <td>11.000000</td>\n",
       "      <td>12.000000</td>\n",
       "    </tr>\n",
       "  </tbody>\n",
       "</table>\n",
       "</div>"
      ],
      "text/plain": [
       "         Duration  Average_Pulse   Max_Pulse  Calorie_Burnage  Hours_Work  \\\n",
       "count  163.000000     163.000000  163.000000       163.000000  163.000000   \n",
       "mean    64.263804     107.723926  134.226994       382.368098    4.386503   \n",
       "std     42.994520      14.625062   16.403967       274.227106    3.923772   \n",
       "min     15.000000      80.000000  100.000000        50.000000    0.000000   \n",
       "25%     45.000000     100.000000  124.000000       256.500000    0.000000   \n",
       "50%     60.000000     105.000000  131.000000       320.000000    5.000000   \n",
       "75%     60.000000     111.000000  141.000000       388.500000    8.000000   \n",
       "max    300.000000     159.000000  184.000000      1860.000000   11.000000   \n",
       "\n",
       "       Hours_Sleep  \n",
       "count   163.000000  \n",
       "mean      7.680982  \n",
       "std       0.663934  \n",
       "min       5.000000  \n",
       "25%       7.500000  \n",
       "50%       8.000000  \n",
       "75%       8.000000  \n",
       "max      12.000000  "
      ]
     },
     "execution_count": 56,
     "metadata": {},
     "output_type": "execute_result"
    }
   ],
   "source": [
    "df.describe()"
   ]
  },
  {
   "cell_type": "code",
   "execution_count": 58,
   "metadata": {},
   "outputs": [
    {
     "name": "stdout",
     "output_type": "stream",
     "text": [
      "120.0\n"
     ]
    }
   ],
   "source": [
    "Pulse = df['Max_Pulse']\n",
    "percentile10 = np.percentile(Pulse, 10)\n",
    "print(percentile10)"
   ]
  },
  {
   "cell_type": "code",
   "execution_count": 59,
   "metadata": {},
   "outputs": [],
   "source": [
    "std = np.std(df)"
   ]
  },
  {
   "cell_type": "code",
   "execution_count": 60,
   "metadata": {},
   "outputs": [
    {
     "name": "stdout",
     "output_type": "stream",
     "text": [
      "Duration            42.862432\n",
      "Average_Pulse       14.580131\n",
      "Max_Pulse           16.353571\n",
      "Calorie_Burnage    273.384624\n",
      "Hours_Work           3.911718\n",
      "Hours_Sleep          0.661895\n",
      "dtype: float64\n"
     ]
    }
   ],
   "source": [
    "print(std)"
   ]
  },
  {
   "cell_type": "code",
   "execution_count": 62,
   "metadata": {},
   "outputs": [
    {
     "name": "stdout",
     "output_type": "stream",
     "text": [
      "Duration            64.263804\n",
      "Average_Pulse      107.723926\n",
      "Max_Pulse          134.226994\n",
      "Calorie_Burnage    382.368098\n",
      "Hours_Work           4.386503\n",
      "Hours_Sleep          7.680982\n",
      "dtype: float64\n"
     ]
    }
   ],
   "source": [
    "mean = np.mean(df)\n",
    "print(mean)"
   ]
  },
  {
   "cell_type": "code",
   "execution_count": 63,
   "metadata": {},
   "outputs": [
    {
     "name": "stdout",
     "output_type": "stream",
     "text": [
      "Duration           0.666976\n",
      "Average_Pulse      0.135347\n",
      "Max_Pulse          0.121835\n",
      "Calorie_Burnage    0.714978\n",
      "Hours_Work         0.891762\n",
      "Hours_Sleep        0.086173\n",
      "dtype: float64\n"
     ]
    }
   ],
   "source": [
    "cv = std/mean\n",
    "print(cv)"
   ]
  },
  {
   "cell_type": "code",
   "execution_count": 64,
   "metadata": {},
   "outputs": [],
   "source": [
    "var = np.var(df)"
   ]
  },
  {
   "cell_type": "code",
   "execution_count": 65,
   "metadata": {},
   "outputs": [
    {
     "name": "stdout",
     "output_type": "stream",
     "text": [
      "Duration            1837.188076\n",
      "Average_Pulse        212.580225\n",
      "Max_Pulse            267.439271\n",
      "Calorie_Burnage    74739.152847\n",
      "Hours_Work            15.301536\n",
      "Hours_Sleep            0.438105\n",
      "dtype: float64\n"
     ]
    }
   ],
   "source": [
    "print(var)"
   ]
  },
  {
   "cell_type": "code",
   "execution_count": 66,
   "metadata": {
    "scrolled": true
   },
   "outputs": [
    {
     "name": "stdout",
     "output_type": "stream",
     "text": [
      "                 Duration  Average_Pulse  Max_Pulse  Calorie_Burnage  \\\n",
      "Duration             1.00          -0.17       0.00             0.89   \n",
      "Average_Pulse       -0.17           1.00       0.79             0.02   \n",
      "Max_Pulse            0.00           0.79       1.00             0.20   \n",
      "Calorie_Burnage      0.89           0.02       0.20             1.00   \n",
      "Hours_Work          -0.12          -0.28      -0.27            -0.14   \n",
      "Hours_Sleep          0.07           0.03       0.09             0.08   \n",
      "\n",
      "                 Hours_Work  Hours_Sleep  \n",
      "Duration              -0.12         0.07  \n",
      "Average_Pulse         -0.28         0.03  \n",
      "Max_Pulse             -0.27         0.09  \n",
      "Calorie_Burnage       -0.14         0.08  \n",
      "Hours_Work             1.00        -0.14  \n",
      "Hours_Sleep           -0.14         1.00  \n"
     ]
    }
   ],
   "source": [
    "corr_Matrix = round(df.corr(),2)\n",
    "print(corr_Matrix)"
   ]
  },
  {
   "cell_type": "code",
   "execution_count": 67,
   "metadata": {},
   "outputs": [
    {
     "data": {
      "image/png": "[encoded data removed]",
      "text/plain": [
       "<Figure size 432x288 with 2 Axes>"
      ]
     },
     "metadata": {
      "needs_background": "light"
     },
     "output_type": "display_data"
    }
   ],
   "source": [
    "import seaborn as sns\n",
    "axis_corr = sns.heatmap(corr_Matrix,vmin = -1, vmax= 1,center = 0,cmap = sns.diverging_palette(50,50,n = 500),square = True)\n",
    "plt.show()"
   ]
  },
  {
   "cell_type": "code",
   "execution_count": 68,
   "metadata": {
    "scrolled": true
   },
   "outputs": [
    {
     "data": {
      "image/png": "[encoded data removed]",
      "text/plain": [
       "<Figure size 432x288 with 1 Axes>"
      ]
     },
     "metadata": {
      "needs_background": "light"
     },
     "output_type": "display_data"
    },
    {
     "name": "stdout",
     "output_type": "stream",
     "text": [
      "                   Drowning_Accident  Ice_Cream_Sale\n",
      "Drowning_Accident                1.0             1.0\n",
      "Ice_Cream_Sale                   1.0             1.0\n"
     ]
    }
   ],
   "source": [
    "import pandas as pd\n",
    "import matplotlib.pyplot as plt\n",
    "\n",
    "Drowning_Accident = [20,40,60,80,100,120,140,160,180,200]\n",
    "Ice_Cream_Sale = [20,40,60,80,100,120,140,160,180,200]\n",
    "Drowning = {\"Drowning_Accident\": [20,40,60,80,100,120,140,160,180,200],\n",
    "\"Ice_Cream_Sale\": [20,40,60,80,100,120,140,160,180,200]}\n",
    "Drowning = pd.DataFrame(data=Drowning)\n",
    "\n",
    "Drowning.plot(x=\"Ice_Cream_Sale\", y=\"Drowning_Accident\", kind=\"scatter\")\n",
    "plt.show()\n",
    "\n",
    "correlation_beach = Drowning.corr()\n",
    "print(correlation_beach)"
   ]
  },
  {
   "cell_type": "code",
   "execution_count": 69,
   "metadata": {},
   "outputs": [
    {
     "data": {
      "image/png": "[encoded data removed]",
      "text/plain": [
       "<Figure size 432x288 with 1 Axes>"
      ]
     },
     "metadata": {
      "needs_background": "light"
     },
     "output_type": "display_data"
    }
   ],
   "source": [
    "plt.scatter(x,y)\n",
    "plt.show()"
   ]
  },
  {
   "cell_type": "code",
   "execution_count": 76,
   "metadata": {},
   "outputs": [
    {
     "data": {
      "image/png": "[encoded data removed]",
      "text/plain": [
       "<Figure size 432x288 with 1 Axes>"
      ]
     },
     "metadata": {
      "needs_background": "light"
     },
     "output_type": "display_data"
    }
   ],
   "source": [
    "slope , intercept, r ,p ,std_err = stats.linregress(x,y)\n",
    "\n",
    "def my_func(x):\n",
    "    return slope*x + intercept\n",
    "mymodel = list(map(my_func,x))\n",
    "plt.scatter(x,y)\n",
    "plt.plot(x,mymodel)\n",
    "plt.show()"
   ]
  },
  {
   "cell_type": "markdown",
   "metadata": {},
   "source": [
    "# Create a Linear Regression Table in Python"
   ]
  },
  {
   "cell_type": "code",
   "execution_count": 77,
   "metadata": {},
   "outputs": [],
   "source": [
    "import statsmodels.formula.api as smf\n"
   ]
  },
  {
   "cell_type": "code",
   "execution_count": 81,
   "metadata": {},
   "outputs": [],
   "source": [
    "df = pd.read_csv(\"data.csv\")\n"
   ]
  },
  {
   "cell_type": "code",
   "execution_count": 82,
   "metadata": {},
   "outputs": [
    {
     "name": "stdout",
     "output_type": "stream",
     "text": [
      "     Duration  Average_Pulse  Max_Pulse  Calorie_Burnage  Hours_Work  \\\n",
      "0          60            110        130              409         0.0   \n",
      "1          60            117        145              479         0.0   \n",
      "2          60            103        135              340         8.0   \n",
      "3          45            109        175              282         8.0   \n",
      "4          45            117        148              406         0.0   \n",
      "..        ...            ...        ...              ...         ...   \n",
      "158        60            105        140              290         7.0   \n",
      "159        60            110        145              300         7.0   \n",
      "160        60            115        145              310         8.0   \n",
      "161        75            120        150              320         0.0   \n",
      "162        75            125        150              330         8.0   \n",
      "\n",
      "     Hours_Sleep  \n",
      "0            8.0  \n",
      "1            8.0  \n",
      "2            7.5  \n",
      "3            8.0  \n",
      "4            6.5  \n",
      "..           ...  \n",
      "158          8.0  \n",
      "159          8.0  \n",
      "160          8.0  \n",
      "161          8.0  \n",
      "162          8.0  \n",
      "\n",
      "[163 rows x 6 columns]\n"
     ]
    }
   ],
   "source": [
    "print(df)"
   ]
  },
  {
   "cell_type": "code",
   "execution_count": 85,
   "metadata": {},
   "outputs": [
    {
     "name": "stdout",
     "output_type": "stream",
     "text": [
      "                            OLS Regression Results                            \n",
      "==============================================================================\n",
      "Dep. Variable:        Calorie_Burnage   R-squared:                       0.000\n",
      "Model:                            OLS   Adj. R-squared:                 -0.006\n",
      "Method:                 Least Squares   F-statistic:                   0.04975\n",
      "Date:                Wed, 10 Feb 2021   Prob (F-statistic):              0.824\n",
      "Time:                        12:25:07   Log-Likelihood:                -1145.8\n",
      "No. Observations:                 163   AIC:                             2296.\n",
      "Df Residuals:                     161   BIC:                             2302.\n",
      "Df Model:                           1                                         \n",
      "Covariance Type:            nonrobust                                         \n",
      "=================================================================================\n",
      "                    coef    std err          t      P>|t|      [0.025      0.975]\n",
      "---------------------------------------------------------------------------------\n",
      "Intercept       346.8662    160.615      2.160      0.032      29.682     664.050\n",
      "Average_Pulse     0.3296      1.478      0.223      0.824      -2.588       3.247\n",
      "==============================================================================\n",
      "Omnibus:                      124.542   Durbin-Watson:                   1.620\n",
      "Prob(Omnibus):                  0.000   Jarque-Bera (JB):              938.541\n",
      "Skew:                           2.927   Prob(JB):                    1.58e-204\n",
      "Kurtosis:                      13.195   Cond. No.                         811.\n",
      "==============================================================================\n",
      "\n",
      "Warnings:\n",
      "[1] Standard Errors assume that the covariance matrix of the errors is correctly specified.\n"
     ]
    }
   ],
   "source": [
    "model = smf.ols('Calorie_Burnage ~ Average_Pulse', data = df)\n",
    "results = model.fit()\n",
    "print(results.summary())"
   ]
  },
  {
   "cell_type": "code",
   "execution_count": 86,
   "metadata": {},
   "outputs": [
    {
     "name": "stdout",
     "output_type": "stream",
     "text": [
      "386.4182\n",
      "389.7142\n",
      "396.3062\n",
      "406.1942\n"
     ]
    }
   ],
   "source": [
    "def Predict_Calorie_Burnage(Average_Pulse):\n",
    " return(0.3296*Average_Pulse + 346.8662)\n",
    "\n",
    "print(Predict_Calorie_Burnage(120))\n",
    "print(Predict_Calorie_Burnage(130))\n",
    "print(Predict_Calorie_Burnage(150))\n",
    "print(Predict_Calorie_Burnage(180))\n"
   ]
  },
  {
   "cell_type": "code",
   "execution_count": 88,
   "metadata": {},
   "outputs": [
    {
     "data": {
      "image/png": "[encoded data removed]",
      "text/plain": [
       "<Figure size 432x288 with 1 Axes>"
      ]
     },
     "metadata": {
      "needs_background": "light"
     },
     "output_type": "display_data"
    }
   ],
   "source": [
    "full_health_data = pd.read_csv(\"data.csv\", header=0, sep=\",\")\n",
    "\n",
    "x = full_health_data[\"Duration\"]\n",
    "y = full_health_data [\"Calorie_Burnage\"]\n",
    "\n",
    "slope, intercept, r, p, std_err = stats.linregress(x, y)\n",
    "\n",
    "def myfunc(x):\n",
    " return slope * x + intercept\n",
    "\n",
    "mymodel = list(map(myfunc, x))\n",
    "\n",
    "# print(mymodel)\n",
    "\n",
    "plt.scatter(x, y)\n",
    "plt.plot(x, mymodel)\n",
    "plt.ylim(ymin=0, ymax=2000)\n",
    "plt.xlim(xmin=0, xmax=200)\n",
    "plt.xlabel(\"Duration\")\n",
    "plt.ylabel (\"Calorie_Burnage\")\n",
    "\n",
    "plt.show()"
   ]
  },
  {
   "cell_type": "code",
   "execution_count": 89,
   "metadata": {},
   "outputs": [
    {
     "name": "stdout",
     "output_type": "stream",
     "text": [
      "                            OLS Regression Results                            \n",
      "==============================================================================\n",
      "Dep. Variable:        Calorie_Burnage   R-squared:                       0.816\n",
      "Model:                            OLS   Adj. R-squared:                  0.814\n",
      "Method:                 Least Squares   F-statistic:                     355.8\n",
      "Date:                Wed, 10 Feb 2021   Prob (F-statistic):           1.27e-59\n",
      "Time:                        12:35:16   Log-Likelihood:                -1007.7\n",
      "No. Observations:                 163   AIC:                             2021.\n",
      "Df Residuals:                     160   BIC:                             2031.\n",
      "Df Model:                           2                                         \n",
      "Covariance Type:            nonrobust                                         \n",
      "=================================================================================\n",
      "                    coef    std err          t      P>|t|      [0.025      0.975]\n",
      "---------------------------------------------------------------------------------\n",
      "Intercept      -334.5194     73.616     -4.544      0.000    -479.904    -189.135\n",
      "Average_Pulse     3.1695      0.644      4.922      0.000       1.898       4.441\n",
      "Duration          5.8424      0.219     26.671      0.000       5.410       6.275\n",
      "==============================================================================\n",
      "Omnibus:                      160.167   Durbin-Watson:                   2.339\n",
      "Prob(Omnibus):                  0.000   Jarque-Bera (JB):             5096.292\n",
      "Skew:                           3.383   Prob(JB):                         0.00\n",
      "Kurtosis:                      29.544   Cond. No.                     1.02e+03\n",
      "==============================================================================\n",
      "\n",
      "Warnings:\n",
      "[1] Standard Errors assume that the covariance matrix of the errors is correctly specified.\n",
      "[2] The condition number is large, 1.02e+03. This might indicate that there are\n",
      "strong multicollinearity or other numerical problems.\n"
     ]
    }
   ],
   "source": [
    "full_health_data = pd.read_csv(\"data.csv\", header=0, sep=\",\")\n",
    "\n",
    "model = smf.ols('Calorie_Burnage ~ Average_Pulse + Duration', data = full_health_data)\n",
    "results = model.fit()\n",
    "print(results.summary())"
   ]
  },
  {
   "cell_type": "code",
   "execution_count": null,
   "metadata": {},
   "outputs": [],
   "source": []
  }
 ],
 "metadata": {
  "kernelspec": {
   "display_name": "Python 3",
   "language": "python",
   "name": "python3"
  },
  "language_info": {
   "codemirror_mode": {
    "name": "ipython",
    "version": 3
   },
   "file_extension": ".py",
   "mimetype": "text/x-python",
   "name": "python",
   "nbconvert_exporter": "python",
   "pygments_lexer": "ipython3",
   "version": "3.7.7"
  }
 },
 "nbformat": 4,
 "nbformat_minor": 4
}
